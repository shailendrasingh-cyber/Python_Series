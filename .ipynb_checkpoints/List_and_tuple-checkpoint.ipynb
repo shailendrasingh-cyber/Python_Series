{
 "cells": [
  {
   "cell_type": "code",
   "execution_count": 4,
   "id": "bf27d403-90ef-402d-b49b-bbc3202a3b63",
   "metadata": {},
   "outputs": [
    {
     "name": "stdout",
     "output_type": "stream",
     "text": [
      "[1, 2, 3, 4, 5] \n",
      " [1, 'hello', 3.14, True]\n"
     ]
    }
   ],
   "source": [
    "#What is a List?\n",
    "# A list is an ordered collection of items.\n",
    "\n",
    "# Can hold integers, strings, floats, or even other lists!\n",
    "\n",
    "# Mutable: You can change, add, or remove elements.\n",
    "\n",
    "# Example of the list \n",
    "\n",
    "my_list = [1, 2, 3, 4, 5]\n",
    "mixed_list = [1, \"hello\", 3.14, True]\n",
    "print(  my_list ,\"\\n\",mixed_list)"
   ]
  },
  {
   "cell_type": "code",
   "execution_count": 5,
   "id": "0986e3d2-c26a-4750-b549-0d851510dd2d",
   "metadata": {},
   "outputs": [
    {
     "name": "stdout",
     "output_type": "stream",
     "text": [
      "[] \n",
      " [1, 2, 3, 4, 5] \n",
      " ['h', 'e', 'l', 'l', 'o']\n"
     ]
    }
   ],
   "source": [
    "# Creating Lists\n",
    "# You can create lists using square brackets [] or the list() function.\n",
    "\n",
    "\n",
    "# Empty list\n",
    "empty = []\n",
    "\n",
    "# From range\n",
    "nums = list(range(1, 6))  # [1, 2, 3, 4, 5]\n",
    "\n",
    "# Using list() constructor\n",
    "chars = list(\"hello\")  # ['h', 'e', 'l', 'l', 'o']\n",
    "\n",
    "\n",
    "\n",
    "print(empty , \"\\n\" , nums , \"\\n\" , chars)"
   ]
  },
  {
   "cell_type": "code",
   "execution_count": 7,
   "id": "f32812c7-315e-429d-8724-0edd87daa1d9",
   "metadata": {},
   "outputs": [
    {
     "name": "stdout",
     "output_type": "stream",
     "text": [
      "apple\n",
      "cherry\n"
     ]
    }
   ],
   "source": [
    "# Accessing Elements\n",
    "# Use indexing to get elements. Indexing starts from 0.\n",
    "\n",
    "\n",
    "\n",
    "fruits = ['apple', 'banana', 'cherry']\n",
    "\n",
    "print(fruits[0])    # apple → first element\n",
    "print(fruits[-1])   # cherry → last element (negative indexing)\n"
   ]
  },
  {
   "cell_type": "code",
   "execution_count": 8,
   "id": "edfd6933-5e41-4d7d-b96d-c938d534eace",
   "metadata": {},
   "outputs": [
    {
     "name": "stdout",
     "output_type": "stream",
     "text": [
      "[20, 30, 40]\n",
      "[10, 20, 30]\n",
      "[10, 30, 50]\n"
     ]
    }
   ],
   "source": [
    " # List Slicing\n",
    "\n",
    "\n",
    "numbers = [10, 20, 30, 40, 50]\n",
    "\n",
    "print(numbers[1:4])     # [20, 30, 40]\n",
    "print(numbers[:3])      # [10, 20, 30] → start from beginning\n",
    "print(numbers[::2])     # [10, 30, 50] → every 2nd element\n",
    "\n"
   ]
  },
  {
   "cell_type": "code",
   "execution_count": 9,
   "id": "4a0102f6-23ba-4c76-949f-043510bd5302",
   "metadata": {},
   "outputs": [
    {
     "name": "stdout",
     "output_type": "stream",
     "text": [
      "['apple', 'kiwi', 'cherry']\n"
     ]
    }
   ],
   "source": [
    " # Updating Elements\n",
    "\n",
    "# Lists are mutable, so you can change their values.\n",
    "\n",
    "fruits = ['apple', 'banana', 'cherry']\n",
    "fruits[1] = 'kiwi'\n",
    "print(fruits)   # ['apple', 'kiwi', 'cherry']"
   ]
  },
  {
   "cell_type": "code",
   "execution_count": 10,
   "id": "f22de0f8-a946-4bb3-b31a-fc58d5406062",
   "metadata": {},
   "outputs": [
    {
     "name": "stdout",
     "output_type": "stream",
     "text": [
      "[1, 2, 3, 4]\n",
      "[1, 2, 1, 2]\n"
     ]
    }
   ],
   "source": [
    "# List Operations \n",
    "\n",
    "\n",
    "# You can add lists, repeat them, or combine with other types.\n",
    "\n",
    "\n",
    "a = [1, 2]\n",
    "b = [3, 4]\n",
    "\n",
    "print(a + b)     # [1, 2, 3, 4] → Concatenation\n",
    "print(a * 2)     # [1, 2, 1, 2] → Repetition\n"
   ]
  },
  {
   "cell_type": "code",
   "execution_count": 11,
   "id": "981a47ac-3f45-443d-b994-9c88750b0ed9",
   "metadata": {},
   "outputs": [
    {
     "name": "stdout",
     "output_type": "stream",
     "text": [
      "True\n",
      "True\n"
     ]
    }
   ],
   "source": [
    " # Membership Testing\n",
    "# Use in or not in to check if an item is present in the list.\n",
    "\n",
    "\n",
    "fruits = ['apple', 'banana', 'cherry']\n",
    "print('banana' in fruits)   # True\n",
    "print('mango' not in fruits)  # True\n"
   ]
  },
  {
   "cell_type": "code",
   "execution_count": 14,
   "id": "60a39eb3-fe0f-45ea-a4ad-4e1c30dd08dc",
   "metadata": {},
   "outputs": [
    {
     "name": "stdout",
     "output_type": "stream",
     "text": [
      "After append(4): [1, 2, 3, 4]\n",
      "After insert(1, 10): [1, 10, 2, 3, 4]\n",
      "After extend([5, 6]): [1, 10, 2, 3, 4, 5, 6]\n"
     ]
    }
   ],
   "source": [
    "# Adding Elements\n",
    "\n",
    "# Add items using append(), insert(), and extend().\n",
    "\n",
    "numbers = [1, 2, 3]\n",
    "\n",
    "numbers.append(4)\n",
    "print(\"After append(4):\", numbers)\n",
    "\n",
    "numbers.insert(1, 10)\n",
    "print(\"After insert(1, 10):\", numbers)\n",
    "\n",
    "numbers.extend([5, 6])\n",
    "print(\"After extend([5, 6]):\", numbers)\n"
   ]
  },
  {
   "cell_type": "code",
   "execution_count": 16,
   "id": "0ac2f004-6e01-46da-baef-7005a19554c7",
   "metadata": {},
   "outputs": [
    {
     "name": "stdout",
     "output_type": "stream",
     "text": [
      "After remove(3): [1, 2, 4, 5]\n",
      "After pop(): [1, 2, 4]\n",
      "After pop(1): [1, 4]\n",
      "After del numbers[0]: [4]\n",
      "After clear(): []\n"
     ]
    }
   ],
   "source": [
    "# Removing Elements\n",
    "# Delete items with remove(), pop(), del, or clear().\n",
    "\n",
    "numbers = [1, 2, 3, 4, 5]\n",
    "\n",
    "numbers.remove(3)  # Removes the value 3\n",
    "print(\"After remove(3):\", numbers)\n",
    "\n",
    "numbers.pop()  # Removes the last item (5)\n",
    "print(\"After pop():\", numbers)\n",
    "\n",
    "numbers.pop(1)  # Removes the item at index 1 (which is 2 now)\n",
    "print(\"After pop(1):\", numbers)\n",
    "\n",
    "del numbers[0]  # Deletes the item at index 0 (which is 1 now)\n",
    "print(\"After del numbers[0]:\", numbers)\n",
    "\n",
    "numbers.clear()  # Empties the list\n",
    "print(\"After clear():\", numbers)\n",
    "\n"
   ]
  },
  {
   "cell_type": "code",
   "execution_count": 17,
   "id": "0278fae5-e8da-4636-b1f0-250e2e5ad5ee",
   "metadata": {},
   "outputs": [
    {
     "name": "stdout",
     "output_type": "stream",
     "text": [
      "1\n",
      "2\n"
     ]
    }
   ],
   "source": [
    "# Searching in Lists\n",
    "# Find where an item is or count how many times it appears.\n",
    "\n",
    "fruits = ['apple', 'banana', 'cherry', 'apple']\n",
    "\n",
    "print(fruits.index('banana'))    # 1 → index of first match\n",
    "print(fruits.count('apple'))     # 2 → how many times 'apple' appears\n",
    "\n",
    "\n"
   ]
  },
  {
   "cell_type": "code",
   "execution_count": 19,
   "id": "720fcc44-7bad-4860-8713-180e886521f6",
   "metadata": {},
   "outputs": [
    {
     "name": "stdout",
     "output_type": "stream",
     "text": [
      "After nums.sort(): [1, 2, 5, 9]\n",
      "After nums.sort(reverse=True): [9, 5, 2, 1]\n",
      "After words.reverse(): ['cherry', 'apple', 'banana']\n",
      "Original nums: [5, 2, 9, 1]\n",
      "Ascending: [1, 2, 5, 9]\n",
      "Descending: [9, 5, 2, 1]\n",
      "Original words: ['banana', 'apple', 'cherry']\n",
      "Reversed words: ['cherry', 'apple', 'banana']\n"
     ]
    }
   ],
   "source": [
    "# Sorting and Reversing\n",
    "\n",
    "nums = [5, 2, 9, 1]\n",
    "\n",
    "nums.sort()  # Sort in ascending order\n",
    "print(\"After nums.sort():\", nums)  # [1, 2, 5, 9]\n",
    "\n",
    "nums.sort(reverse=True)  # Sort in descending order\n",
    "print(\"After nums.sort(reverse=True):\", nums)  # [9, 5, 2, 1]\n",
    "\n",
    "\n",
    "words = ['banana', 'apple', 'cherry']\n",
    "\n",
    "words.reverse()  # Reverse the list\n",
    "print(\"After words.reverse():\", words)  # ['cherry', 'apple', 'banana']\n",
    "\n",
    "\n",
    "##------ method how to store in the variable and then print it ---------- #\n",
    "\n",
    "nums = [5, 2, 9, 1]\n",
    "\n",
    "ascending = sorted(nums)\n",
    "descending = sorted(nums, reverse=True)\n",
    "\n",
    "words = ['banana', 'apple', 'cherry']\n",
    "reversed_words = list(reversed(words))\n",
    "\n",
    "print(\"Original nums:\", nums)\n",
    "print(\"Ascending:\", ascending)\n",
    "print(\"Descending:\", descending)\n",
    "\n",
    "print(\"Original words:\", words)\n",
    "print(\"Reversed words:\", reversed_words)\n",
    "\n"
   ]
  },
  {
   "cell_type": "code",
   "execution_count": 21,
   "id": "2ec274ae-ad0e-4da3-a036-ba7d44d0e5b6",
   "metadata": {},
   "outputs": [
    {
     "name": "stdout",
     "output_type": "stream",
     "text": [
      "[1, 2, 3]\n",
      "[1, 2, 3]\n",
      "[1, 2, 3]\n"
     ]
    }
   ],
   "source": [
    "# Copying Lists\n",
    "# Use copy() or slicing to make a new independent list.\n",
    "a = [1, 2, 3]\n",
    "\n",
    "b = a.copy()\n",
    "c = list(a)\n",
    "d = a[:]\n",
    "\n",
    "\n",
    "print(b)\n",
    "print(c)\n",
    "print(d)"
   ]
  },
  {
   "cell_type": "code",
   "execution_count": 22,
   "id": "a4c2e138-07ca-4386-8562-4da448fc6308",
   "metadata": {},
   "outputs": [
    {
     "name": "stdout",
     "output_type": "stream",
     "text": [
      "[1, 2, 3]\n",
      "6\n"
     ]
    }
   ],
   "source": [
    "# Nested Lists\n",
    "\n",
    "# A list inside another list is called a nested list (like a 2D array).\n",
    "\n",
    "\n",
    "matrix = [[1, 2, 3], [4, 5, 6]]\n",
    "\n",
    "print(matrix[0])       # [1, 2, 3]\n",
    "print(matrix[1][2])    # 6\n"
   ]
  },
  {
   "cell_type": "code",
   "execution_count": 23,
   "id": "ad473a2f-fd58-445f-a19f-fa3745aba388",
   "metadata": {},
   "outputs": [],
   "source": [
    "######-------TUPLE-------#######"
   ]
  },
  {
   "cell_type": "code",
   "execution_count": 24,
   "id": "54bec93f-0a6d-45b0-88f8-adb20fcf1f12",
   "metadata": {},
   "outputs": [
    {
     "name": "stdout",
     "output_type": "stream",
     "text": [
      "Tuple: (1, 2, 3)\n"
     ]
    }
   ],
   "source": [
    "# # What is a Tuple?\n",
    "\n",
    "# A tuple is just like a list,\n",
    "# but it's immutable — you cannot change its elements once defined. Tuples are faster and used for fixed data.\n",
    "\n",
    "\n",
    "my_tuple = (1, 2, 3)\n",
    "print(\"Tuple:\", my_tuple)    # Output: (1, 2, 3)\n"
   ]
  },
  {
   "cell_type": "code",
   "execution_count": 25,
   "id": "47218ebd-e721-4c18-a17f-89cd76928c72",
   "metadata": {},
   "outputs": [
    {
     "name": "stdout",
     "output_type": "stream",
     "text": [
      "Empty Tuple: ()\n",
      "Single-element Tuple: (5,)\n",
      "Mixed Tuple: (1, 'hello', 3.14)\n"
     ]
    }
   ],
   "source": [
    "# Creating Tuples\n",
    "\n",
    "# Use parentheses () or just commas , to define a tuple.\n",
    "\n",
    "\n",
    "empty = ()\n",
    "print(\"Empty Tuple:\", empty)   # ()\n",
    "\n",
    "single = (5,)\n",
    "print(\"Single-element Tuple:\", single)   # (5,)\n",
    "\n",
    "mixed = (1, \"hello\", 3.14)\n",
    "print(\"Mixed Tuple:\", mixed)   # (1, 'hello', 3.14)\n",
    "\n"
   ]
  },
  {
   "cell_type": "code",
   "execution_count": 26,
   "id": "91fb3577-17fa-41a3-a605-9e14b4e9b006",
   "metadata": {},
   "outputs": [
    {
     "name": "stdout",
     "output_type": "stream",
     "text": [
      "First fruit: apple\n",
      "Last fruit: cherry\n"
     ]
    }
   ],
   "source": [
    "# Accessing Elements\n",
    "\n",
    "# Use indexing to get elements from a tuple, just like a list.\n",
    "\n",
    "fruits = ('apple', 'banana', 'cherry')\n",
    "print(\"First fruit:\", fruits[0])     # apple\n",
    "print(\"Last fruit:\", fruits[-1])     # cherry\n"
   ]
  },
  {
   "cell_type": "code",
   "execution_count": 27,
   "id": "1e5b9f57-b1c5-4ebd-92cd-cc9016976638",
   "metadata": {},
   "outputs": [
    {
     "name": "stdout",
     "output_type": "stream",
     "text": [
      "Slice 1 to 4: (20, 30, 40)\n",
      "Every 2nd element: (10, 30, 50)\n"
     ]
    }
   ],
   "source": [
    "# Slicing Tuples\n",
    "# Get a range of elements using slicing [start:end:step].\n",
    "nums = (10, 20, 30, 40, 50)\n",
    "print(\"Slice 1 to 4:\", nums[1:4])    # (20, 30, 40)\n",
    "print(\"Every 2nd element:\", nums[::2])  # (10, 30, 50)\n"
   ]
  },
  {
   "cell_type": "code",
   "execution_count": 28,
   "id": "db924457-0d7b-4f59-a5e3-06c9aa4ea99c",
   "metadata": {},
   "outputs": [
    {
     "name": "stdout",
     "output_type": "stream",
     "text": [
      "Tuples are immutable, cannot change: (1, 2, 3)\n"
     ]
    }
   ],
   "source": [
    "# Immutability (Cannot Modify)\n",
    "\n",
    "# Trying to change an element will give an error.\n",
    "\n",
    "t = (1, 2, 3)\n",
    "# t[0] = 10  ❌ Error!\n",
    "print(\"Tuples are immutable, cannot change:\", t)\n"
   ]
  },
  {
   "cell_type": "code",
   "execution_count": 29,
   "id": "8630d3a9-4249-44be-b177-de125a44ca04",
   "metadata": {},
   "outputs": [
    {
     "name": "stdout",
     "output_type": "stream",
     "text": [
      "Concatenation: (1, 2, 3, 4)\n",
      "Repetition: (1, 2, 1, 2)\n"
     ]
    }
   ],
   "source": [
    "# Tuple Operations\n",
    "\n",
    "a = (1, 2)\n",
    "b = (3, 4)\n",
    "\n",
    "print(\"Concatenation:\", a + b)    # (1, 2, 3, 4)\n",
    "print(\"Repetition:\", a * 2)       # (1, 2, 1, 2)\n"
   ]
  },
  {
   "cell_type": "code",
   "execution_count": 30,
   "id": "a460d9f5-3fe7-4cba-8631-38313503b146",
   "metadata": {},
   "outputs": [
    {
     "name": "stdout",
     "output_type": "stream",
     "text": [
      "Is 3 in tuple? True\n",
      "Is 5 not in tuple? True\n"
     ]
    }
   ],
   "source": [
    "# Membership Test\n",
    "\n",
    "# Check if an element exists using in or not in.\n",
    "\n",
    "\n",
    "t = (1, 2, 3, 4)\n",
    "\n",
    "print(\"Is 3 in tuple?\", 3 in t)     # True\n",
    "print(\"Is 5 not in tuple?\", 5 not in t)   # True\n"
   ]
  },
  {
   "cell_type": "code",
   "execution_count": 31,
   "id": "2e71ddb5-34e1-43b8-a280-9ea1d671d63d",
   "metadata": {},
   "outputs": [
    {
     "name": "stdout",
     "output_type": "stream",
     "text": [
      "Color: red\n",
      "Color: green\n",
      "Color: blue\n",
      "Color at index 0 : red\n",
      "Color at index 1 : green\n",
      "Color at index 2 : blue\n"
     ]
    }
   ],
   "source": [
    " # Looping Through Tuple\n",
    "# Loop through elements using for loop or index.\n",
    "colors = ('red', 'green', 'blue')\n",
    "\n",
    "# Direct\n",
    "for color in colors:\n",
    "    print(\"Color:\", color)\n",
    "\n",
    "# By index\n",
    "for i in range(len(colors)):\n",
    "    print(\"Color at index\", i, \":\", colors[i])\n"
   ]
  },
  {
   "cell_type": "code",
   "execution_count": 33,
   "id": "026fe421-dc15-4f26-bb73-34c212f99c2b",
   "metadata": {},
   "outputs": [
    {
     "name": "stdout",
     "output_type": "stream",
     "text": [
      "Count of 2: 3\n",
      "Index of 3: 2\n"
     ]
    }
   ],
   "source": [
    " # Tuple Methods\n",
    "\n",
    "# Tuples only have two methods: count() and index().\n",
    "\n",
    "t = (1, 2, 3, 2, 2)\n",
    "\n",
    "print(\"Count of 2:\", t.count(2))      # 3\n",
    "print(\"Index of 3:\", t.index(3))      # 2\n",
    "\n",
    "\n"
   ]
  },
  {
   "cell_type": "code",
   "execution_count": 34,
   "id": "03085bf8-eb73-4287-ab77-81911b6521ee",
   "metadata": {},
   "outputs": [
    {
     "name": "stdout",
     "output_type": "stream",
     "text": [
      "Name: Alice\n",
      "Age: 25\n",
      "Country: India\n"
     ]
    }
   ],
   "source": [
    "# Tuple Unpacking\n",
    "\n",
    "# You can unpack elements directly into variables.\n",
    "\n",
    "person = (\"Alice\", 25, \"India\")\n",
    "name, age, country = person\n",
    "\n",
    "print(\"Name:\", name)       # Alice\n",
    "print(\"Age:\", age)         # 25\n",
    "print(\"Country:\", country) # India\n"
   ]
  },
  {
   "cell_type": "raw",
   "id": "14340d92-48e1-48c2-887e-42154b77baa8",
   "metadata": {},
   "source": [
    "Tuple vs List (Quick Comparison)\n",
    "\n",
    "\n",
    "| Feature  | List (`[]`)      | Tuple (`()`) |\n",
    "| -------- | ---------------- | ------------ |\n",
    "| Mutable  | ✅ Yes            | ❌ No         |\n",
    "| Syntax   | `[]`             | `()`         |\n",
    "| Speed    | Slower           | Faster       |\n",
    "| Use Case | Frequent changes | Fixed data   |\n"
   ]
  },
  {
   "cell_type": "code",
   "execution_count": 35,
   "id": "cb940aea-5713-4651-951f-505f40da8394",
   "metadata": {},
   "outputs": [
    {
     "name": "stdout",
     "output_type": "stream",
     "text": [
      "Original tuple: (1, 2, [3, 4, 5])\n",
      "After modifying list inside tuple: (1, 2, [3, 100, 5])\n"
     ]
    }
   ],
   "source": [
    "# List inside Tuple (Tuple with Mutable Elements)\n",
    "\n",
    "t = (1, 2, [3, 4, 5])\n",
    "print(\"Original tuple:\", t)\n",
    "\n",
    "# Modifying the list inside tuple\n",
    "t[2][1] = 100\n",
    "print(\"After modifying list inside tuple:\", t)\n",
    "\n"
   ]
  },
  {
   "cell_type": "markdown",
   "id": "7c3cac88-9cb1-4164-8027-47b984b38edc",
   "metadata": {},
   "source": [
    " Important Note:\n",
    "t[2] = [9, 8, 7] ❌ Not allowed! (You can’t change the element at index 2 directly)\n",
    "\n",
    "But t[2][1] = 100 ✅ Allowed! (You can change the list inside that element)"
   ]
  },
  {
   "cell_type": "code",
   "execution_count": 36,
   "id": "b8a54124-c982-4afb-b56f-717459cd2786",
   "metadata": {},
   "outputs": [],
   "source": [
    "# Modify a Tuple by Converting to List and Back\n",
    "# Tuples can't be changed directly, but if you really need to modify it, you can do this trick:"
   ]
  },
  {
   "cell_type": "code",
   "execution_count": 37,
   "id": "0ef28e07-fda4-4936-a733-14252b3e8091",
   "metadata": {},
   "outputs": [
    {
     "name": "stdout",
     "output_type": "stream",
     "text": [
      "Original Tuple: (10, 20, 30)\n",
      "Modified Tuple: (10, 200, 30)\n"
     ]
    }
   ],
   "source": [
    "t = (10, 20, 30)\n",
    "print(\"Original Tuple:\", t)\n",
    "\n",
    "# Step 1: Convert tuple to list\n",
    "temp_list = list(t)\n",
    "\n",
    "# Step 2: Modify the list\n",
    "temp_list[1] = 200\n",
    "\n",
    "# Step 3: Convert back to tuple\n",
    "t = tuple(temp_list)\n",
    "print(\"Modified Tuple:\", t)\n"
   ]
  },
  {
   "cell_type": "code",
   "execution_count": 38,
   "id": "fd676133-2179-422a-ab9e-06a34f078bbb",
   "metadata": {},
   "outputs": [
    {
     "name": "stdout",
     "output_type": "stream",
     "text": [
      "Updated Tuple: (1, 3, 4)\n"
     ]
    }
   ],
   "source": [
    "# You can also add or remove elements during the process:\n",
    "\n",
    "t = (1, 2, 3)\n",
    "\n",
    "# Convert to list\n",
    "temp = list(t)\n",
    "temp.append(4)      # Add an element\n",
    "temp.remove(2)      # Remove element\n",
    "\n",
    "# Convert back\n",
    "t = tuple(temp)\n",
    "print(\"Updated Tuple:\", t)\n",
    "\n"
   ]
  },
  {
   "cell_type": "raw",
   "id": "2eb31a9e-1122-48a0-badd-ca5af447eb38",
   "metadata": {},
   "source": [
    "At last \n",
    "\n",
    "Why this works:\n",
    "Tuple = Immutable = ❌ Can’t change directly\n",
    "\n",
    "List = Mutable = ✅ Can change\n",
    "\n",
    "So we use conversion trick to “bypass” immutability\n",
    "\n"
   ]
  }
 ],
 "metadata": {
  "kernelspec": {
   "display_name": "Python [conda env:base] *",
   "language": "python",
   "name": "conda-base-py"
  },
  "language_info": {
   "codemirror_mode": {
    "name": "ipython",
    "version": 3
   },
   "file_extension": ".py",
   "mimetype": "text/x-python",
   "name": "python",
   "nbconvert_exporter": "python",
   "pygments_lexer": "ipython3",
   "version": "3.13.5"
  }
 },
 "nbformat": 4,
 "nbformat_minor": 5
}
