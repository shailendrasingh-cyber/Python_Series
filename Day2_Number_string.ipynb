{
 "cells": [
  {
   "cell_type": "code",
   "execution_count": 1,
   "id": "d461175d-2cfb-4101-9c59-8b949be5e7ce",
   "metadata": {},
   "outputs": [],
   "source": [
    "# # Data type in the python \n",
    "# 1. Numeric type "
   ]
  },
  {
   "cell_type": "code",
   "execution_count": 2,
   "id": "5dc4a454-9320-4b95-b9c8-b8b0b6f2c496",
   "metadata": {},
   "outputs": [],
   "source": [
    "#there are three type of data in the numeric type :- \\\n",
    "# Int  -  represent integers which are the whole numbers that are positive and negative \n",
    "# float -  The data or the number which end with the decimal \n",
    "# complex :- one of the data is real and another one was the imaginary \n"
   ]
  },
  {
   "cell_type": "code",
   "execution_count": 7,
   "id": "5d961cc5-ea5e-43a5-9d4a-56fa5ec0a409",
   "metadata": {},
   "outputs": [
    {
     "name": "stdout",
     "output_type": "stream",
     "text": [
      "3\n",
      "<class 'int'>\n"
     ]
    }
   ],
   "source": [
    "# example of the int \n",
    "exa_1 =  3\n",
    "print(exa_1)\n",
    "print (type(exa_1))"
   ]
  },
  {
   "cell_type": "code",
   "execution_count": 8,
   "id": "d8b4f363-e31d-4059-8c83-1f8ed3661e06",
   "metadata": {},
   "outputs": [
    {
     "name": "stdout",
     "output_type": "stream",
     "text": [
      "3.0\n",
      "<class 'float'>\n"
     ]
    }
   ],
   "source": [
    "# example of the float\n",
    "exa_2 =  3.0\n",
    "print(exa_2)\n",
    "print(type(exa_2))"
   ]
  },
  {
   "cell_type": "code",
   "execution_count": 11,
   "id": "b619cd05-157f-45e0-8b84-1b03494850f4",
   "metadata": {},
   "outputs": [
    {
     "name": "stdout",
     "output_type": "stream",
     "text": [
      "(2+3j)\n",
      "<class 'complex'>\n"
     ]
    }
   ],
   "source": [
    "# example of the complex number\n",
    "\n",
    "exa_3 =  2+3J\n",
    "\n",
    "print(exa_3)\n",
    "print(type(exa_3))"
   ]
  },
  {
   "cell_type": "code",
   "execution_count": 12,
   "id": "04462f20-6329-4a8a-81bc-8f3b6935f855",
   "metadata": {},
   "outputs": [],
   "source": [
    "# now we are changing the type of the data type \n",
    "\n",
    "# conversion from int to float \n",
    "exa_4 = float(exa_1)"
   ]
  },
  {
   "cell_type": "code",
   "execution_count": 14,
   "id": "ab5e7595-93ae-4332-9cc1-8a9dd1c6dd2e",
   "metadata": {},
   "outputs": [
    {
     "name": "stdout",
     "output_type": "stream",
     "text": [
      "<class 'float'>\n"
     ]
    }
   ],
   "source": [
    "print(type(exa_4))"
   ]
  },
  {
   "cell_type": "code",
   "execution_count": 15,
   "id": "19a8acd9-225f-40ef-8685-440ee75fa161",
   "metadata": {},
   "outputs": [
    {
     "name": "stdout",
     "output_type": "stream",
     "text": [
      "3.0 and the data type is <class 'int'>\n"
     ]
    }
   ],
   "source": [
    "# similary we change the data type from float to int \n",
    "exa_5 =  int(exa_4)\n",
    "\n",
    "print(exa_4 , \"and the data type is\" , type(exa_5))"
   ]
  },
  {
   "cell_type": "code",
   "execution_count": 16,
   "id": "81374483-f750-4a3e-8a76-760cdeada1fe",
   "metadata": {},
   "outputs": [
    {
     "name": "stdout",
     "output_type": "stream",
     "text": [
      "2.0\n",
      "2\n"
     ]
    }
   ],
   "source": [
    "# se we cannot convert the complex into the different anothe data type like float or int but we have the method  to convert each one by onelike imag and real \n",
    "# example :- \n",
    "real_part = exa_3.real       # 2.0\n",
    "imaginary_part = exa_3.imag  # 3.0\n",
    "\n",
    "print(float(real_part))      # 2.0\n",
    "print(int(real_part))        # 2"
   ]
  },
  {
   "cell_type": "code",
   "execution_count": 17,
   "id": "3e99bd0b-1450-41ef-9fc5-33bbe2a69618",
   "metadata": {},
   "outputs": [
    {
     "name": "stdout",
     "output_type": "stream",
     "text": [
      "2.0\n",
      "3\n"
     ]
    }
   ],
   "source": [
    "# or another mehtod :-\n",
    "\n",
    "exa_3 = 2 + 3j\n",
    "print(float(exa_3.real))  # 2.0\n",
    "print(int(exa_3.imag))    # 3"
   ]
  },
  {
   "cell_type": "code",
   "execution_count": 18,
   "id": "6401745e-671e-4b06-8751-b21d02a9f5f9",
   "metadata": {},
   "outputs": [],
   "source": [
    "#-------------STRING-----------#\n",
    "# In Python, a string is a sequence of characters enclosed within single quotes\n",
    "# ('), double quotes (\"), or triple quotes (''' or \"\"\").\n",
    "\n",
    "# OR \n",
    "\n",
    "# A string is a collection of characters, such as letters, numbers, symbols, or spaces, used to represent text.\n",
    "\n"
   ]
  },
  {
   "cell_type": "code",
   "execution_count": 19,
   "id": "1a9fe0c2-4a15-4d81-8ef4-cd0461403155",
   "metadata": {},
   "outputs": [],
   "source": [
    "name = 'Shailendra'        # Single-quoted string\n",
    "greeting = \"Hello World!\"  # Double-quoted string\n",
    "sentence = '''This is a\n",
    "multiline string'''        # Triple-quoted (multi-line) string\n"
   ]
  },
  {
   "cell_type": "code",
   "execution_count": 20,
   "id": "4264ce80-e499-464f-98fb-bb89ef52f0b7",
   "metadata": {},
   "outputs": [
    {
     "name": "stdout",
     "output_type": "stream",
     "text": [
      "Shailendra\n",
      "Hello World!\n",
      "This is a\n",
      "multiline string\n"
     ]
    }
   ],
   "source": [
    "print(name)\n",
    "print(greeting)\n",
    "print(sentence)"
   ]
  },
  {
   "cell_type": "code",
   "execution_count": 21,
   "id": "1cdf8163-c7d7-47d7-921f-d40812778be3",
   "metadata": {},
   "outputs": [
    {
     "name": "stdout",
     "output_type": "stream",
     "text": [
      "Shailendra | Hello World! | This is a\n",
      "multiline string\n"
     ]
    }
   ],
   "source": [
    "print(f\"{name} | {greeting} | {sentence}\")\n"
   ]
  },
  {
   "cell_type": "code",
   "execution_count": 22,
   "id": "a860095b-0fca-438a-b46b-d983adb0a236",
   "metadata": {},
   "outputs": [
    {
     "name": "stdout",
     "output_type": "stream",
     "text": [
      "My name is Shailendra and I am 25 years old.\n"
     ]
    }
   ],
   "source": [
    "# Note :- An f-string is a way to embed variables or expressions directly inside \n",
    "# a string, using curly braces {} and prefixing the string with the letter f.\n",
    "\n",
    "name = \"Shailendra\"\n",
    "age = 25\n",
    "print(f\"My name is {name} and I am {age} years old.\")\n",
    "\n"
   ]
  },
  {
   "cell_type": "code",
   "execution_count": 23,
   "id": "47925911-ae09-44a0-806c-c2e1079db041",
   "metadata": {},
   "outputs": [],
   "source": [
    "# Important Points:\n",
    "# Strings are immutable (cannot be changed after creation).\n",
    "\n",
    "# Strings support indexing, slicing, and many built-in methods (.upper(), .lower(), .split(), etc.).\n",
    "\n",
    "\n",
    "\n",
    "# You can access individual characters using their index:"
   ]
  },
  {
   "cell_type": "code",
   "execution_count": 25,
   "id": "163b778a-c54c-4915-819a-ceb39defdda9",
   "metadata": {},
   "outputs": [
    {
     "name": "stdout",
     "output_type": "stream",
     "text": [
      "P\n",
      "y\n"
     ]
    }
   ],
   "source": [
    "word = \"Python\"\n",
    "print(word[0])  # P\n",
    "print(word[-1]) # n"
   ]
  },
  {
   "cell_type": "code",
   "execution_count": 27,
   "id": "8ecf09ee-f43a-4fdd-aaa9-f8489360b292",
   "metadata": {},
   "outputs": [],
   "source": [
    "# | Slice        | Meaning                              | Example (word=\"Python\") | Output   |\n",
    "# | ------------ | ------------------------------------ | ----------------------- | -------- |\n",
    "# | `word[2:]`   | From index 2 to end                  | `word[2:]`              | `thon`   |\n",
    "# | `word[:4]`   | From start to index 4 (not included) | `word[:4]`              | `Pyth`   |\n",
    "# | `word[:]`    | Full copy of string                  | `word[:]`               | `Python` |\n",
    "# | `word[-3:]`  | Last 3 characters                    | `word[-3:]`             | `hon`    |\n",
    "# | `word[:-2]`  | All except last 2 characters         | `word[:-2]`             | `Pyth`   |\n",
    "# | `word[::2]`  | Every second character               | `word[::2]`             | `Pto`    |\n",
    "# | `word[::-1]` | Reverse string                       | `word[::-1]`            | `nohtyP` |\n",
    "\n",
    "\n"
   ]
  },
  {
   "cell_type": "code",
   "execution_count": 28,
   "id": "78c6294d-a41a-4681-a811-3a6998288dc9",
   "metadata": {},
   "outputs": [],
   "source": [
    "# # # About the Indexing \n",
    "# # Indexing allows you to access individual characters in a string.\n",
    "\n",
    "\n",
    "# word = \"P  y  t  h  o  n\"\n",
    "#          0  1  2  3  4  5   → Positive index\n",
    "#         -6 -5 -4 -3 -2 -1   → Negative index\n"
   ]
  },
  {
   "cell_type": "code",
   "execution_count": 29,
   "id": "df396ffe-f030-47fe-81ca-fef151c656af",
   "metadata": {},
   "outputs": [
    {
     "name": "stdout",
     "output_type": "stream",
     "text": [
      "thon\n"
     ]
    }
   ],
   "source": [
    "# # Slicing with different index types\n",
    "\n",
    "# Upper index missing (word[start:])\n",
    "\n",
    "print(word[2:])     # Output: 'thon'\n",
    "# Starts at index 2 → includes characters from index 2 to the end\n"
   ]
  },
  {
   "cell_type": "code",
   "execution_count": 30,
   "id": "55db87a6-6d1e-4a72-8708-6f6f97654eda",
   "metadata": {},
   "outputs": [
    {
     "name": "stdout",
     "output_type": "stream",
     "text": [
      "Pyth\n"
     ]
    }
   ],
   "source": [
    "# Lower index missing (word[:end])\n",
    "\n",
    "print(word[:4])     # Output: 'Pyth'\n",
    "# Starts from beginning (index 0) → up to index 4 (excluding 4)\n"
   ]
  },
  {
   "cell_type": "code",
   "execution_count": 31,
   "id": "643fa0f4-0c22-4726-b7b7-ceb92b96e2e5",
   "metadata": {},
   "outputs": [
    {
     "name": "stdout",
     "output_type": "stream",
     "text": [
      "Python\n"
     ]
    }
   ],
   "source": [
    " # Both indices missing (word[:])\n",
    "print(word[:])      # Output: 'Python'\n",
    "# Copies the entire string\n"
   ]
  },
  {
   "cell_type": "code",
   "execution_count": 32,
   "id": "d8d8ddf5-1ab8-49aa-b008-94f6f0767cef",
   "metadata": {},
   "outputs": [
    {
     "name": "stdout",
     "output_type": "stream",
     "text": [
      "hon\n",
      "Pyth\n"
     ]
    }
   ],
   "source": [
    "# Negative indexing\n",
    "\n",
    "\n",
    "print(word[-3:])    # Output: 'hon'\n",
    "# Last 3 characters\n",
    "print(word[:-2])    # Output: 'Pyth'\n",
    "# Up to the 2nd last character\n"
   ]
  },
  {
   "cell_type": "code",
   "execution_count": 33,
   "id": "8af90c6b-b79c-4a7d-955d-a9cb9c1a9ead",
   "metadata": {},
   "outputs": [
    {
     "name": "stdout",
     "output_type": "stream",
     "text": [
      "Pto\n",
      "nohtyP\n"
     ]
    }
   ],
   "source": [
    "# With step value (word[start:end:step])\n",
    "\n",
    "\n",
    "print(word[::2])    # Output: 'Pto'\n",
    "# Skips every second character\n",
    "print(word[::-1])   # Output: 'nohtyP'\n",
    "# Reverses the string\n"
   ]
  },
  {
   "cell_type": "code",
   "execution_count": 34,
   "id": "cfcbb3e1-a4e3-4f52-8751-20048e80b5d4",
   "metadata": {},
   "outputs": [],
   "source": [
    "# Note :- \n",
    "\n",
    "# Strings in Python are Immutable\n",
    "# This means once a string is created, you cannot change its characters directly by indexing."
   ]
  },
  {
   "cell_type": "code",
   "execution_count": 35,
   "id": "becbe4e6-c2f9-457f-962d-22e81a354162",
   "metadata": {},
   "outputs": [
    {
     "ename": "TypeError",
     "evalue": "'str' object does not support item assignment",
     "output_type": "error",
     "traceback": [
      "\u001b[1;31m---------------------------------------------------------------------------\u001b[0m",
      "\u001b[1;31mTypeError\u001b[0m                                 Traceback (most recent call last)",
      "Cell \u001b[1;32mIn[35], line 2\u001b[0m\n\u001b[0;32m      1\u001b[0m word \u001b[38;5;241m=\u001b[39m \u001b[38;5;124m\"\u001b[39m\u001b[38;5;124mPython\u001b[39m\u001b[38;5;124m\"\u001b[39m\n\u001b[1;32m----> 2\u001b[0m word[\u001b[38;5;241m0\u001b[39m] \u001b[38;5;241m=\u001b[39m \u001b[38;5;124m'\u001b[39m\u001b[38;5;124mJ\u001b[39m\u001b[38;5;124m'\u001b[39m\n",
      "\u001b[1;31mTypeError\u001b[0m: 'str' object does not support item assignment"
     ]
    }
   ],
   "source": [
    "word = \"Python\"\n",
    "word[0] = 'J'  # ❌ Error\n"
   ]
  },
  {
   "cell_type": "code",
   "execution_count": 36,
   "id": "298aa0bd-b618-4d9b-9d19-2c7136cf60b9",
   "metadata": {},
   "outputs": [],
   "source": [
    "# How to \"change\" a string:\n",
    "# You can't change in-place, but you can create a new string using slicing, concatenation, or .replace().\n"
   ]
  },
  {
   "cell_type": "code",
   "execution_count": 37,
   "id": "feb3333a-5abe-441a-a987-f5e1300fb9fa",
   "metadata": {},
   "outputs": [
    {
     "name": "stdout",
     "output_type": "stream",
     "text": [
      "Jython\n"
     ]
    }
   ],
   "source": [
    "word = \"Python\"\n",
    "new_word = 'J' + word[1:]\n",
    "print(new_word)  # 'Jython'\n"
   ]
  },
  {
   "cell_type": "code",
   "execution_count": 38,
   "id": "af4fd093-a288-49f0-9cfe-a60ce71a77a2",
   "metadata": {},
   "outputs": [
    {
     "name": "stdout",
     "output_type": "stream",
     "text": [
      "Jython\n"
     ]
    }
   ],
   "source": [
    "word = \"Python\"\n",
    "new_word = word.replace('P', 'J')\n",
    "print(new_word)  # 'Jython'"
   ]
  },
  {
   "cell_type": "code",
   "execution_count": 39,
   "id": "3f263d4a-ec24-4ff8-a55f-2062c9220c70",
   "metadata": {},
   "outputs": [
    {
     "name": "stdout",
     "output_type": "stream",
     "text": [
      "Jython\n"
     ]
    }
   ],
   "source": [
    "word = \"Python\"\n",
    "new_word = f\"{'J'}{word[1:]}\"\n",
    "print(new_word)  # 'Jython'\n"
   ]
  },
  {
   "cell_type": "code",
   "execution_count": 40,
   "id": "c48cd415-f164-44b8-b5d2-f26aa48a401a",
   "metadata": {},
   "outputs": [],
   "source": [
    "# | Operation                | Possible? | Method                  |\n",
    "# | ------------------------ | --------- | ----------------------- |\n",
    "# | `word[0] = 'J'`          | ❌ No      | Not allowed             |\n",
    "# | `word.replace('P', 'J')` | ✅ Yes     | `.replace()`            |\n",
    "# | `word = 'J' + word[1:]`  | ✅ Yes     | String slicing & concat |\n"
   ]
  },
  {
   "cell_type": "code",
   "execution_count": 41,
   "id": "e41a3a24-e7e6-476b-991b-366cae4445df",
   "metadata": {},
   "outputs": [
    {
     "name": "stdout",
     "output_type": "stream",
     "text": [
      "Upper: THIRTY DAYS OF PYTHON \n",
      " Lower: thirty days of python \n",
      " Title: Thirty Days Of Python \n",
      " Swapcase: THIRTY dAYS OF python \n",
      " Capitalize: Thirty days of python\n"
     ]
    }
   ],
   "source": [
    "# All major string operations like upper, lower, title, swapcase, capitalize in one print statement:\n",
    "\n",
    "word = \"thirty Days of PYTHON\"\n",
    "\n",
    "print(\n",
    "    \"Upper:\", word.upper(), \"\\n\",\n",
    "    \"Lower:\", word.lower(), \"\\n\",\n",
    "    \"Title:\", word.title(), \"\\n\",\n",
    "    \"Swapcase:\", word.swapcase(), \"\\n\",\n",
    "    \"Capitalize:\", word.capitalize()\n",
    ")\n"
   ]
  },
  {
   "cell_type": "code",
   "execution_count": null,
   "id": "428e919f-966d-4a2d-8cde-00354474daed",
   "metadata": {},
   "outputs": [],
   "source": []
  }
 ],
 "metadata": {
  "kernelspec": {
   "display_name": "Python [conda env:base] *",
   "language": "python",
   "name": "conda-base-py"
  },
  "language_info": {
   "codemirror_mode": {
    "name": "ipython",
    "version": 3
   },
   "file_extension": ".py",
   "mimetype": "text/x-python",
   "name": "python",
   "nbconvert_exporter": "python",
   "pygments_lexer": "ipython3",
   "version": "3.13.5"
  }
 },
 "nbformat": 4,
 "nbformat_minor": 5
}
